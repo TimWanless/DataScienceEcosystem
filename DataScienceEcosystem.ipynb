{
  "metadata": {
    "language_info": {
      "codemirror_mode": {
        "name": "python",
        "version": 3
      },
      "file_extension": ".py",
      "mimetype": "text/x-python",
      "name": "python",
      "nbconvert_exporter": "python",
      "pygments_lexer": "ipython3",
      "version": "3.8"
    },
    "kernelspec": {
      "name": "python",
      "display_name": "Pyolite",
      "language": "python"
    }
  },
  "nbformat_minor": 4,
  "nbformat": 4,
  "cells": [
    {
      "cell_type": "markdown",
      "source": "# Data Science Tools and Ecosystem",
      "metadata": {}
    },
    {
      "cell_type": "markdown",
      "source": "In this notebook, Data Science Tools and Ecosystem are summarized.",
      "metadata": {}
    },
    {
      "cell_type": "markdown",
      "source": "Some of the popular languages that Data Scientists use are:\n\n   <ol> \n       <li>Python\n       <li>R\n       <li>SQL\n       <li>Java\n       <li>Scala\n       <li>C++\n       <li>JavaScript\n       <li>Julia\n     <ol>\n        ",
      "metadata": {}
    },
    {
      "cell_type": "markdown",
      "source": "Some of the commonly used libraries used by Data Scientists include:\n    <ol>\n        <li>Pandas\n        <li>NumPy\n        <li>Matplotlib\n        <li>Seaborn\n        <li>Scikit-learn\n        <li>Keras\n        <li>TensorFlow\n        <li>PyTorch\n    <ol>",
      "metadata": {}
    },
    {
      "cell_type": "markdown",
      "source": "| Data Science Tools|\n| --- |\n| SPyder |\n| RStudio |\n| VisualStudio |",
      "metadata": {}
    },
    {
      "cell_type": "markdown",
      "source": "<h3> Below are a few examples of evaluating arithmetic expressions in Python <h3>",
      "metadata": {}
    },
    {
      "cell_type": "code",
      "source": "(3*4)+5\n#  This a simple arithmetic expression to mutiply then add integers",
      "metadata": {
        "trusted": true
      },
      "execution_count": 9,
      "outputs": [
        {
          "execution_count": 9,
          "output_type": "execute_result",
          "data": {
            "text/plain": "17"
          },
          "metadata": {}
        }
      ]
    },
    {
      "cell_type": "code",
      "source": "minutes = 200\nhour = minutes/60\nprint(hour)\n# This will convert 200 minutes to hours by diving by 60",
      "metadata": {
        "trusted": true
      },
      "execution_count": 10,
      "outputs": [
        {
          "name": "stdout",
          "text": "3.3333333333333335\n",
          "output_type": "stream"
        }
      ]
    },
    {
      "cell_type": "markdown",
      "source": "**Objectives**\n<ul>\n    <li>Data Science Languages\n    <li>Data Science Libraries\n    <li>Data Sets\n    <li>Machine Learning Models\n    <li>Application Programming Interfaces\n<ul>",
      "metadata": {}
    },
    {
      "cell_type": "markdown",
      "source": "<h2>Author<h2>\n    Tim W",
      "metadata": {}
    }
  ]
}